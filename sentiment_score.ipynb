{
 "cells": [
  {
   "cell_type": "code",
   "execution_count": 1,
   "id": "2233ee0f",
   "metadata": {},
   "outputs": [],
   "source": [
    "import re\n",
    "import numpy as np\n",
    "import pandas as pd\n",
    "import matplotlib.pyplot as plt\n",
    "import seaborn as sns"
   ]
  },
  {
   "cell_type": "code",
   "execution_count": 2,
   "id": "37ba0713-5f2d-4abb-8208-7f6198a58d48",
   "metadata": {},
   "outputs": [],
   "source": [
    "pd.set_option('display.max.column', None)\n",
    "pd.set_option('display.max_colwidth', None)\n",
    "pd.set_option('display.precision', 3)"
   ]
  },
  {
   "cell_type": "code",
   "execution_count": 3,
   "id": "109d2fe1-d4d9-43e3-9676-0294fc73cdbe",
   "metadata": {},
   "outputs": [
    {
     "data": {
      "text/html": [
       "<div>\n",
       "<style scoped>\n",
       "    .dataframe tbody tr th:only-of-type {\n",
       "        vertical-align: middle;\n",
       "    }\n",
       "\n",
       "    .dataframe tbody tr th {\n",
       "        vertical-align: top;\n",
       "    }\n",
       "\n",
       "    .dataframe thead th {\n",
       "        text-align: right;\n",
       "    }\n",
       "</style>\n",
       "<table border=\"1\" class=\"dataframe\">\n",
       "  <thead>\n",
       "    <tr style=\"text-align: right;\">\n",
       "      <th></th>\n",
       "      <th>tag</th>\n",
       "      <th>tweet</th>\n",
       "    </tr>\n",
       "  </thead>\n",
       "  <tbody>\n",
       "    <tr>\n",
       "      <th>0</th>\n",
       "      <td>#toystory</td>\n",
       "      <td>*Fun facts:\\n#TheLittleMermaid is the first movie I remember watching at the theater \\n#TheLionKing was my first trip to the movies without adult supervision \\n#ToyStory was the first movie my sister and I watched at the theater together\\n2/2</td>\n",
       "    </tr>\n",
       "    <tr>\n",
       "      <th>1</th>\n",
       "      <td>#toystory</td>\n",
       "      <td>🎬 The first feature-length computer-animated movie was \"Toy Story\" (1995), introducing a new era in animated cinema.\\n\\n#ToyStory #ComputerAnimatedMovie #AnimatedCinema #FeatureLength #Cinema #365Tidbits #TidbitOfTheDay #FunFacts #Trivia #ForeverCurious #AI</td>\n",
       "    </tr>\n",
       "    <tr>\n",
       "      <th>2</th>\n",
       "      <td>#toystory</td>\n",
       "      <td>Toy Story is a near-perfect film. The only weakness is the dated animation, which feels nostalgic rather than outdated, and it fits the toy aesthetic. It’s funny, clever, appropriately low stakes, well paced, and heartwarming enough to please all ages - 5/5 Stars #toystory #pixar</td>\n",
       "    </tr>\n",
       "    <tr>\n",
       "      <th>3</th>\n",
       "      <td>#toystory</td>\n",
       "      <td>Happy 5th anniversary to #ToyStory4. Top Easter egg in the antique shop from a Pixar film. #pixar #InsideOut2 #Celebrities #cinema #DisneyPlus #DisneyWorld #toystory #Disneyland #disneyparks #moviereviews @Ryan_Treasures @missnotyou @brutalpuncher1 @JJRavenation52</td>\n",
       "    </tr>\n",
       "    <tr>\n",
       "      <th>4</th>\n",
       "      <td>#toystory</td>\n",
       "      <td>#buzzlightyearofstarcommand #TimAllen #disney #pixar #animation #toystory #2000s #movie #moviereview #movies #film #filmreview #films #cinemaloco #wayneknight #scifi #sciencefiction #scifimovies #FilmTwitter #FilmX \\n\\n@Disney\\n@DisneyStudios\\n@Pixar\\n@toystory\\n\\n- Mike Sandwich</td>\n",
       "    </tr>\n",
       "  </tbody>\n",
       "</table>\n",
       "</div>"
      ],
      "text/plain": [
       "         tag  \\\n",
       "0  #toystory   \n",
       "1  #toystory   \n",
       "2  #toystory   \n",
       "3  #toystory   \n",
       "4  #toystory   \n",
       "\n",
       "                                                                                                                                                                                                                                                                                      tweet  \n",
       "0                                        *Fun facts:\\n#TheLittleMermaid is the first movie I remember watching at the theater \\n#TheLionKing was my first trip to the movies without adult supervision \\n#ToyStory was the first movie my sister and I watched at the theater together\\n2/2  \n",
       "1                         🎬 The first feature-length computer-animated movie was \"Toy Story\" (1995), introducing a new era in animated cinema.\\n\\n#ToyStory #ComputerAnimatedMovie #AnimatedCinema #FeatureLength #Cinema #365Tidbits #TidbitOfTheDay #FunFacts #Trivia #ForeverCurious #AI  \n",
       "2  Toy Story is a near-perfect film. The only weakness is the dated animation, which feels nostalgic rather than outdated, and it fits the toy aesthetic. It’s funny, clever, appropriately low stakes, well paced, and heartwarming enough to please all ages - 5/5 Stars #toystory #pixar  \n",
       "3                  Happy 5th anniversary to #ToyStory4. Top Easter egg in the antique shop from a Pixar film. #pixar #InsideOut2 #Celebrities #cinema #DisneyPlus #DisneyWorld #toystory #Disneyland #disneyparks #moviereviews @Ryan_Treasures @missnotyou @brutalpuncher1 @JJRavenation52  \n",
       "4  #buzzlightyearofstarcommand #TimAllen #disney #pixar #animation #toystory #2000s #movie #moviereview #movies #film #filmreview #films #cinemaloco #wayneknight #scifi #sciencefiction #scifimovies #FilmTwitter #FilmX \\n\\n@Disney\\n@DisneyStudios\\n@Pixar\\n@toystory\\n\\n- Mike Sandwich  "
      ]
     },
     "execution_count": 3,
     "metadata": {},
     "output_type": "execute_result"
    }
   ],
   "source": [
    "tweets = pd.read_csv(r\"movie_tweets20.csv\")\n",
    "tweets.rename(columns={\"Movie_hashtag\": \"tag\", \"Tweet\": \"tweet\"}, inplace=True)\n",
    "tweets.head()"
   ]
  },
  {
   "cell_type": "code",
   "execution_count": 4,
   "id": "d75d7110",
   "metadata": {},
   "outputs": [
    {
     "data": {
      "text/plain": [
       "(37151, 2)"
      ]
     },
     "execution_count": 4,
     "metadata": {},
     "output_type": "execute_result"
    }
   ],
   "source": [
    "tweets.shape"
   ]
  },
  {
   "cell_type": "code",
   "execution_count": 5,
   "id": "2d326175-0601-45e5-8ee8-97e0b685d6f3",
   "metadata": {},
   "outputs": [
    {
     "name": "stdout",
     "output_type": "stream",
     "text": [
      "Number of unique tags: 1409\n",
      "Number of unique tweets: 35589\n"
     ]
    }
   ],
   "source": [
    "print(f\"Number of unique tags: {tweets['tag'].nunique()}\")\n",
    "print(f\"Number of unique tweets: {tweets['tweet'].nunique()}\")"
   ]
  },
  {
   "cell_type": "code",
   "execution_count": 6,
   "id": "87e67409",
   "metadata": {},
   "outputs": [
    {
     "name": "stdout",
     "output_type": "stream",
     "text": [
      "Number of rows after removing duplicates: 35589\n"
     ]
    }
   ],
   "source": [
    "tweets = tweets.drop_duplicates(subset=\"tweet\", keep=\"first\")\n",
    "print(f\"Number of rows after removing duplicates: {tweets.shape[0]}\")"
   ]
  },
  {
   "cell_type": "code",
   "execution_count": 7,
   "id": "cd585a55-a870-4e39-829f-fde2c091649d",
   "metadata": {},
   "outputs": [
    {
     "name": "stdout",
     "output_type": "stream",
     "text": [
      "Number of tweets per tag: tag\n",
      "#fieldofdreams                 39\n",
      "#themanwhoknewtoolittle        39\n",
      "#rebelwithoutacause            39\n",
      "#nothingpersonal               39\n",
      "#breakingthewaves              39\n",
      "                               ..\n",
      "#secretslies                    1\n",
      "#tetsuoiibodyhammer             1\n",
      "#lottoland                      1\n",
      "#denisecallsup                  1\n",
      "#nakedgun3313thefinalinsult     1\n",
      "Name: count, Length: 1407, dtype: int64\n",
      "\n",
      "Average number of tweets per tag: 25.29\n"
     ]
    }
   ],
   "source": [
    "print(f\"Number of tweets per tag: {tweets['tag'].value_counts()}\")\n",
    "print(f\"\\nAverage number of tweets per tag: {tweets.groupby('tag').size().mean():.2f}\")"
   ]
  },
  {
   "cell_type": "code",
   "execution_count": 8,
   "id": "db38209b-12d9-40ab-b4b2-e50f0ed17762",
   "metadata": {},
   "outputs": [
    {
     "data": {
      "text/html": [
       "<div>\n",
       "<style scoped>\n",
       "    .dataframe tbody tr th:only-of-type {\n",
       "        vertical-align: middle;\n",
       "    }\n",
       "\n",
       "    .dataframe tbody tr th {\n",
       "        vertical-align: top;\n",
       "    }\n",
       "\n",
       "    .dataframe thead th {\n",
       "        text-align: right;\n",
       "    }\n",
       "</style>\n",
       "<table border=\"1\" class=\"dataframe\">\n",
       "  <thead>\n",
       "    <tr style=\"text-align: right;\">\n",
       "      <th></th>\n",
       "      <th>tag</th>\n",
       "      <th>tweet</th>\n",
       "    </tr>\n",
       "  </thead>\n",
       "  <tbody>\n",
       "    <tr>\n",
       "      <th>2370</th>\n",
       "      <td>#rockthe</td>\n",
       "      <td>Video editing is a form of magic coordinated by the cameraman and the editor. \\nRight but the magic who did is the editor who convert anything in a raw form to a film . And its called an amazing Magic  .\\n\\n#videoeditor  #rockthe #VideoViral</td>\n",
       "    </tr>\n",
       "    <tr>\n",
       "      <th>2371</th>\n",
       "      <td>#rockthe</td>\n",
       "      <td>@akshaykumar akki sir best wishesh for your movie #rockthe bollywood</td>\n",
       "    </tr>\n",
       "    <tr>\n",
       "      <th>7616</th>\n",
       "      <td>#clientthe</td>\n",
       "      <td>@MomCentral #clientThe person who always be there is my friend no matter when where so blessed to have her in my life so this movie is us</td>\n",
       "    </tr>\n",
       "    <tr>\n",
       "      <th>9419</th>\n",
       "      <td>#blobthe</td>\n",
       "      <td>So pleased that The Blob (aka #BlobThe) ended with \"The End\" followed by a \"?\" More films need to conclude in this manner!</td>\n",
       "    </tr>\n",
       "    <tr>\n",
       "      <th>12580</th>\n",
       "      <td>#fanthe</td>\n",
       "      <td>@SRKFC1 @iamsrk @FanTheFilm @ferdbouk Fan will be amazing so excited to see #Fanthe Film</td>\n",
       "    </tr>\n",
       "    <tr>\n",
       "      <th>25055</th>\n",
       "      <td>#vanthe</td>\n",
       "      <td>Jayam Ravi in boomi movie\\nAs excellent #vanthe mathiram</td>\n",
       "    </tr>\n",
       "    <tr>\n",
       "      <th>26864</th>\n",
       "      <td>#machinethe</td>\n",
       "      <td>@themustafaB Excellntttttttttttt movie mustafa love the climax and @Advani_Kiara i have no word to describe you..love u both #machinethe</td>\n",
       "    </tr>\n",
       "    <tr>\n",
       "      <th>27616</th>\n",
       "      <td>#mightythe</td>\n",
       "      <td>@_kiriiku To buy food stuff\\n#MightyThe Movie</td>\n",
       "    </tr>\n",
       "    <tr>\n",
       "      <th>27617</th>\n",
       "      <td>#mightythe</td>\n",
       "      <td>@_kiriiku Me boss it will go a loooong way helping me get my cooking utensils for sales #MightyThe Movie</td>\n",
       "    </tr>\n",
       "    <tr>\n",
       "      <th>28695</th>\n",
       "      <td>#fearthe</td>\n",
       "      <td>Any big PF and Centers looking for a team, DM film to this account! Looking forward to seeing what you all can do! #GoNoles #FearThe Spear</td>\n",
       "    </tr>\n",
       "    <tr>\n",
       "      <th>28696</th>\n",
       "      <td>#fearthe</td>\n",
       "      <td>@FreeCharge #SurfWithFreecharge #FearThe Shallows #Freechargers  \"Blake Lively'' is the lead actress in this movie</td>\n",
       "    </tr>\n",
       "    <tr>\n",
       "      <th>29046</th>\n",
       "      <td>#showthe</td>\n",
       "      <td>@SonyPictures #TheInterview #showthe film. We will go.</td>\n",
       "    </tr>\n",
       "  </tbody>\n",
       "</table>\n",
       "</div>"
      ],
      "text/plain": [
       "               tag  \\\n",
       "2370      #rockthe   \n",
       "2371      #rockthe   \n",
       "7616    #clientthe   \n",
       "9419      #blobthe   \n",
       "12580      #fanthe   \n",
       "25055      #vanthe   \n",
       "26864  #machinethe   \n",
       "27616   #mightythe   \n",
       "27617   #mightythe   \n",
       "28695     #fearthe   \n",
       "28696     #fearthe   \n",
       "29046     #showthe   \n",
       "\n",
       "                                                                                                                                                                                                                                                   tweet  \n",
       "2370   Video editing is a form of magic coordinated by the cameraman and the editor. \\nRight but the magic who did is the editor who convert anything in a raw form to a film . And its called an amazing Magic  .\\n\\n#videoeditor  #rockthe #VideoViral  \n",
       "2371                                                                                                                                                                                @akshaykumar akki sir best wishesh for your movie #rockthe bollywood  \n",
       "7616                                                                                                           @MomCentral #clientThe person who always be there is my friend no matter when where so blessed to have her in my life so this movie is us  \n",
       "9419                                                                                                                          So pleased that The Blob (aka #BlobThe) ended with \"The End\" followed by a \"?\" More films need to conclude in this manner!  \n",
       "12580                                                                                                                                                           @SRKFC1 @iamsrk @FanTheFilm @ferdbouk Fan will be amazing so excited to see #Fanthe Film  \n",
       "25055                                                                                                                                                                                           Jayam Ravi in boomi movie\\nAs excellent #vanthe mathiram  \n",
       "26864                                                                                                           @themustafaB Excellntttttttttttt movie mustafa love the climax and @Advani_Kiara i have no word to describe you..love u both #machinethe  \n",
       "27616                                                                                                                                                                                                      @_kiriiku To buy food stuff\\n#MightyThe Movie  \n",
       "27617                                                                                                                                           @_kiriiku Me boss it will go a loooong way helping me get my cooking utensils for sales #MightyThe Movie  \n",
       "28695                                                                                                         Any big PF and Centers looking for a team, DM film to this account! Looking forward to seeing what you all can do! #GoNoles #FearThe Spear  \n",
       "28696                                                                                                                                 @FreeCharge #SurfWithFreecharge #FearThe Shallows #Freechargers  \"Blake Lively'' is the lead actress in this movie  \n",
       "29046                                                                                                                                                                                             @SonyPictures #TheInterview #showthe film. We will go.  "
      ]
     },
     "execution_count": 8,
     "metadata": {},
     "output_type": "execute_result"
    }
   ],
   "source": [
    "tweets[tweets['tag'].str.endswith('the')]"
   ]
  },
  {
   "cell_type": "code",
   "execution_count": 9,
   "id": "16d92c86-254f-41f4-a296-cbd2adabaa78",
   "metadata": {},
   "outputs": [
    {
     "data": {
      "text/plain": [
       "True"
      ]
     },
     "execution_count": 9,
     "metadata": {},
     "output_type": "execute_result"
    }
   ],
   "source": [
    "tweets = tweets[~tweets['tag'].str.endswith('the')]\n",
    "tweets[tweets[\"tag\"].str.endswith(\"the\")].empty"
   ]
  },
  {
   "cell_type": "code",
   "execution_count": 10,
   "id": "b0d036b5-bf8f-4f9d-9f9d-d98e8451123a",
   "metadata": {},
   "outputs": [
    {
     "data": {
      "text/html": [
       "<div>\n",
       "<style scoped>\n",
       "    .dataframe tbody tr th:only-of-type {\n",
       "        vertical-align: middle;\n",
       "    }\n",
       "\n",
       "    .dataframe tbody tr th {\n",
       "        vertical-align: top;\n",
       "    }\n",
       "\n",
       "    .dataframe thead th {\n",
       "        text-align: right;\n",
       "    }\n",
       "</style>\n",
       "<table border=\"1\" class=\"dataframe\">\n",
       "  <thead>\n",
       "    <tr style=\"text-align: right;\">\n",
       "      <th></th>\n",
       "      <th>tag</th>\n",
       "      <th>tweet</th>\n",
       "    </tr>\n",
       "  </thead>\n",
       "  <tbody>\n",
       "    <tr>\n",
       "      <th>0</th>\n",
       "      <td>toystory</td>\n",
       "      <td>fun facts is the first movie i remember watching at the theater was my first trip to the movies without adult supervision was the first movie my sister and i watched at the theater together</td>\n",
       "    </tr>\n",
       "    <tr>\n",
       "      <th>1</th>\n",
       "      <td>toystory</td>\n",
       "      <td>the first featurelength computeranimated movie was toy story  introducing a new era in animated cinema</td>\n",
       "    </tr>\n",
       "    <tr>\n",
       "      <th>2</th>\n",
       "      <td>toystory</td>\n",
       "      <td>toy story is a nearperfect film the only weakness is the dated animation which feels nostalgic rather than outdated and it fits the toy aesthetic its funny clever appropriately low stakes well paced and heartwarming enough to please all ages   stars</td>\n",
       "    </tr>\n",
       "    <tr>\n",
       "      <th>3</th>\n",
       "      <td>toystory</td>\n",
       "      <td>happy th anniversary to top easter egg in the antique shop from a pixar film</td>\n",
       "    </tr>\n",
       "    <tr>\n",
       "      <th>4</th>\n",
       "      <td>toystory</td>\n",
       "      <td>mike sandwich</td>\n",
       "    </tr>\n",
       "  </tbody>\n",
       "</table>\n",
       "</div>"
      ],
      "text/plain": [
       "        tag  \\\n",
       "0  toystory   \n",
       "1  toystory   \n",
       "2  toystory   \n",
       "3  toystory   \n",
       "4  toystory   \n",
       "\n",
       "                                                                                                                                                                                                                                                       tweet  \n",
       "0                                                              fun facts is the first movie i remember watching at the theater was my first trip to the movies without adult supervision was the first movie my sister and i watched at the theater together  \n",
       "1                                                                                                                                                     the first featurelength computeranimated movie was toy story  introducing a new era in animated cinema  \n",
       "2  toy story is a nearperfect film the only weakness is the dated animation which feels nostalgic rather than outdated and it fits the toy aesthetic its funny clever appropriately low stakes well paced and heartwarming enough to please all ages   stars  \n",
       "3                                                                                                                                                                               happy th anniversary to top easter egg in the antique shop from a pixar film  \n",
       "4                                                                                                                                                                                                                                              mike sandwich  "
      ]
     },
     "execution_count": 10,
     "metadata": {},
     "output_type": "execute_result"
    }
   ],
   "source": [
    "def process_tweets(tw):\n",
    "    tw = re.sub(r\"\\s*#\\w+\\b\", \"\", tw)\n",
    "    tw = re.sub(r\"\\s*@\\w+\\b\", \"\", tw)\n",
    "    tw = re.sub(r\"\\n\", \"\", tw)\n",
    "    tw = re.sub(r\"[^\\w\\s]\", \"\", tw)\n",
    "    tw = re.sub(r\"[^a-zA-Z\\s]\", \"\", tw)\n",
    "    tw = tw.lower()\n",
    "    return tw\n",
    "\n",
    "tweets['tweet'] = tweets['tweet'].apply(process_tweets)\n",
    "\n",
    "tweets[\"tag\"] = tweets[\"tag\"].apply(lambda tag: tag[1:])\n",
    "tweets.head()"
   ]
  },
  {
   "cell_type": "code",
   "execution_count": 13,
   "id": "05033fde",
   "metadata": {},
   "outputs": [
    {
     "data": {
      "text/plain": [
       "<spacytextblob.spacytextblob.SpacyTextBlob at 0x20bb5f1ce30>"
      ]
     },
     "execution_count": 13,
     "metadata": {},
     "output_type": "execute_result"
    }
   ],
   "source": [
    "import spacy\n",
    "from spacytextblob.spacytextblob import SpacyTextBlob\n",
    "\n",
    "nlp = spacy.load(\"en_core_web_sm\")\n",
    "nlp.add_pipe(\"spacytextblob\")"
   ]
  },
  {
   "cell_type": "code",
   "execution_count": 14,
   "id": "4fc0ca5b-c6d2-4329-9110-43c7673d8156",
   "metadata": {},
   "outputs": [
    {
     "data": {
      "text/html": [
       "<div>\n",
       "<style scoped>\n",
       "    .dataframe tbody tr th:only-of-type {\n",
       "        vertical-align: middle;\n",
       "    }\n",
       "\n",
       "    .dataframe tbody tr th {\n",
       "        vertical-align: top;\n",
       "    }\n",
       "\n",
       "    .dataframe thead th {\n",
       "        text-align: right;\n",
       "    }\n",
       "</style>\n",
       "<table border=\"1\" class=\"dataframe\">\n",
       "  <thead>\n",
       "    <tr style=\"text-align: right;\">\n",
       "      <th></th>\n",
       "      <th>tag</th>\n",
       "      <th>tweet</th>\n",
       "      <th>score</th>\n",
       "    </tr>\n",
       "  </thead>\n",
       "  <tbody>\n",
       "    <tr>\n",
       "      <th>0</th>\n",
       "      <td>toystory</td>\n",
       "      <td>fun facts is the first movie i remember watching at the theater was my first trip to the movies without adult supervision was the first movie my sister and i watched at the theater together</td>\n",
       "      <td>0.230</td>\n",
       "    </tr>\n",
       "    <tr>\n",
       "      <th>1</th>\n",
       "      <td>toystory</td>\n",
       "      <td>the first featurelength computeranimated movie was toy story  introducing a new era in animated cinema</td>\n",
       "      <td>0.193</td>\n",
       "    </tr>\n",
       "    <tr>\n",
       "      <th>2</th>\n",
       "      <td>toystory</td>\n",
       "      <td>toy story is a nearperfect film the only weakness is the dated animation which feels nostalgic rather than outdated and it fits the toy aesthetic its funny clever appropriately low stakes well paced and heartwarming enough to please all ages   stars</td>\n",
       "      <td>-0.010</td>\n",
       "    </tr>\n",
       "    <tr>\n",
       "      <th>3</th>\n",
       "      <td>toystory</td>\n",
       "      <td>happy th anniversary to top easter egg in the antique shop from a pixar film</td>\n",
       "      <td>0.650</td>\n",
       "    </tr>\n",
       "    <tr>\n",
       "      <th>4</th>\n",
       "      <td>toystory</td>\n",
       "      <td>mike sandwich</td>\n",
       "      <td>0.000</td>\n",
       "    </tr>\n",
       "  </tbody>\n",
       "</table>\n",
       "</div>"
      ],
      "text/plain": [
       "        tag  \\\n",
       "0  toystory   \n",
       "1  toystory   \n",
       "2  toystory   \n",
       "3  toystory   \n",
       "4  toystory   \n",
       "\n",
       "                                                                                                                                                                                                                                                       tweet  \\\n",
       "0                                                              fun facts is the first movie i remember watching at the theater was my first trip to the movies without adult supervision was the first movie my sister and i watched at the theater together   \n",
       "1                                                                                                                                                     the first featurelength computeranimated movie was toy story  introducing a new era in animated cinema   \n",
       "2  toy story is a nearperfect film the only weakness is the dated animation which feels nostalgic rather than outdated and it fits the toy aesthetic its funny clever appropriately low stakes well paced and heartwarming enough to please all ages   stars   \n",
       "3                                                                                                                                                                               happy th anniversary to top easter egg in the antique shop from a pixar film   \n",
       "4                                                                                                                                                                                                                                              mike sandwich   \n",
       "\n",
       "   score  \n",
       "0  0.230  \n",
       "1  0.193  \n",
       "2 -0.010  \n",
       "3  0.650  \n",
       "4  0.000  "
      ]
     },
     "execution_count": 14,
     "metadata": {},
     "output_type": "execute_result"
    }
   ],
   "source": [
    "# Function to perform tokenization, lemmatization, and sentiment analysis using SpaCy and SpacyTextBlob\n",
    "\n",
    "def analyze_sentiment(tweet):\n",
    "\n",
    "    # Tokenize and lemmatize the text\n",
    "    doc = nlp(tweet)\n",
    "    lemmatized_text = \" \".join([token.lemma_ for token in doc])\n",
    "\n",
    "    # Analyze sentiment\n",
    "    lemmatized_doc = nlp(lemmatized_text)\n",
    "    return lemmatized_doc._.polarity\n",
    "\n",
    "\n",
    "tweets['score']= tweets['tweet'].apply(analyze_sentiment)\n",
    "tweets.head()"
   ]
  },
  {
   "cell_type": "code",
   "execution_count": null,
   "id": "85c7d0fc",
   "metadata": {},
   "outputs": [],
   "source": [
    "# tweets.to_csv(r'tweets_polarity.csv', index=False)"
   ]
  },
  {
   "cell_type": "code",
   "execution_count": 15,
   "id": "4ceffae6",
   "metadata": {},
   "outputs": [
    {
     "data": {
      "text/plain": [
       "tag\n",
       "north                            29\n",
       "inthelineoffire                  25\n",
       "asgoodasitgets                   22\n",
       "junior                           20\n",
       "indianajonesandthelastcrusade    19\n",
       "                                 ..\n",
       "nemesis2nebula                    1\n",
       "truthorconsequencesnm             1\n",
       "intimaterelations                 1\n",
       "butterflykiss                     1\n",
       "thewarathome                      1\n",
       "Name: count, Length: 1324, dtype: int64"
      ]
     },
     "execution_count": 15,
     "metadata": {},
     "output_type": "execute_result"
    }
   ],
   "source": [
    "tweets[tweets['score'] == 0]['tag'].value_counts()"
   ]
  },
  {
   "cell_type": "code",
   "execution_count": 16,
   "id": "5e4cf2a5-b98e-48df-9c55-e3d3f19d1a25",
   "metadata": {},
   "outputs": [
    {
     "data": {
      "text/html": [
       "<div>\n",
       "<style scoped>\n",
       "    .dataframe tbody tr th:only-of-type {\n",
       "        vertical-align: middle;\n",
       "    }\n",
       "\n",
       "    .dataframe tbody tr th {\n",
       "        vertical-align: top;\n",
       "    }\n",
       "\n",
       "    .dataframe thead th {\n",
       "        text-align: right;\n",
       "    }\n",
       "</style>\n",
       "<table border=\"1\" class=\"dataframe\">\n",
       "  <thead>\n",
       "    <tr style=\"text-align: right;\">\n",
       "      <th></th>\n",
       "      <th>tag</th>\n",
       "      <th>average_score</th>\n",
       "    </tr>\n",
       "  </thead>\n",
       "  <tbody>\n",
       "    <tr>\n",
       "      <th>0</th>\n",
       "      <td>101dalmatians</td>\n",
       "      <td>0.201</td>\n",
       "    </tr>\n",
       "    <tr>\n",
       "      <th>1</th>\n",
       "      <td>12angrymen</td>\n",
       "      <td>0.199</td>\n",
       "    </tr>\n",
       "    <tr>\n",
       "      <th>2</th>\n",
       "      <td>187</td>\n",
       "      <td>0.154</td>\n",
       "    </tr>\n",
       "    <tr>\n",
       "      <th>3</th>\n",
       "      <td>1900</td>\n",
       "      <td>0.050</td>\n",
       "    </tr>\n",
       "    <tr>\n",
       "      <th>4</th>\n",
       "      <td>20000leaguesunderthesea</td>\n",
       "      <td>0.234</td>\n",
       "    </tr>\n",
       "    <tr>\n",
       "      <th>...</th>\n",
       "      <td>...</td>\n",
       "      <td>...</td>\n",
       "    </tr>\n",
       "    <tr>\n",
       "      <th>1393</th>\n",
       "      <td>youngfrankenstein</td>\n",
       "      <td>0.322</td>\n",
       "    </tr>\n",
       "    <tr>\n",
       "      <th>1394</th>\n",
       "      <td>youngguns</td>\n",
       "      <td>0.222</td>\n",
       "    </tr>\n",
       "    <tr>\n",
       "      <th>1395</th>\n",
       "      <td>younggunsii</td>\n",
       "      <td>0.246</td>\n",
       "    </tr>\n",
       "    <tr>\n",
       "      <th>1396</th>\n",
       "      <td>yousocrazy</td>\n",
       "      <td>0.152</td>\n",
       "    </tr>\n",
       "    <tr>\n",
       "      <th>1397</th>\n",
       "      <td>zeusandroxanne</td>\n",
       "      <td>0.156</td>\n",
       "    </tr>\n",
       "  </tbody>\n",
       "</table>\n",
       "<p>1398 rows × 2 columns</p>\n",
       "</div>"
      ],
      "text/plain": [
       "                          tag  average_score\n",
       "0               101dalmatians          0.201\n",
       "1                  12angrymen          0.199\n",
       "2                         187          0.154\n",
       "3                        1900          0.050\n",
       "4     20000leaguesunderthesea          0.234\n",
       "...                       ...            ...\n",
       "1393        youngfrankenstein          0.322\n",
       "1394                youngguns          0.222\n",
       "1395              younggunsii          0.246\n",
       "1396               yousocrazy          0.152\n",
       "1397           zeusandroxanne          0.156\n",
       "\n",
       "[1398 rows x 2 columns]"
      ]
     },
     "execution_count": 16,
     "metadata": {},
     "output_type": "execute_result"
    }
   ],
   "source": [
    "# Group by 'Movie_tag' and calculate the mean\n",
    "average_sentiment = tweets.groupby('tag').agg(\n",
    "    average_score=('score', 'mean'),\n",
    ").reset_index()\n",
    "\n",
    "# Display the DataFrame with average sentiment scores\n",
    "average_sentiment"
   ]
  },
  {
   "cell_type": "code",
   "execution_count": 27,
   "id": "b9f8ef23",
   "metadata": {},
   "outputs": [],
   "source": [
    "# average_sentiment.to_csv(r'average_sentiment.csv', index=False)"
   ]
  }
 ],
 "metadata": {
  "kernelspec": {
   "display_name": "myenv",
   "language": "python",
   "name": "python3"
  },
  "language_info": {
   "codemirror_mode": {
    "name": "ipython",
    "version": 3
   },
   "file_extension": ".py",
   "mimetype": "text/x-python",
   "name": "python",
   "nbconvert_exporter": "python",
   "pygments_lexer": "ipython3",
   "version": "3.12.1"
  }
 },
 "nbformat": 4,
 "nbformat_minor": 5
}
